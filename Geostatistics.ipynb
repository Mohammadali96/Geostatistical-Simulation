{
 "cells": [
  {
   "cell_type": "markdown",
   "id": "13fbde50-6358-4aba-981c-9bdb4689e950",
   "metadata": {},
   "source": [
    "# Geostatistical Simulation in Python"
   ]
  },
  {
   "cell_type": "markdown",
   "id": "b9ca9955-f5b8-4498-bec1-e6f3ca98949a",
   "metadata": {},
   "source": [
    "Here we create a 2D model using CPT data in 6 locations. The raw tip resistance is used to develop the model. "
   ]
  },
  {
   "cell_type": "code",
   "execution_count": 1,
   "id": "a434d0ad-e5bb-4a7b-a525-1d4d978e838c",
   "metadata": {},
   "outputs": [],
   "source": [
    "import numpy as np\n",
    "import pandas as pd"
   ]
  },
  {
   "cell_type": "markdown",
   "id": "d0f8f9e6-66cc-4fd2-b662-0eea8ce9c783",
   "metadata": {},
   "source": [
    "### Loading Data"
   ]
  },
  {
   "cell_type": "code",
   "execution_count": null,
   "id": "b302bac7-8939-43fa-99e0-6fd250d851d0",
   "metadata": {},
   "outputs": [],
   "source": [
    "import numpy as np\n",
    "import pandas as pd\n",
    "from matplotlib import pyplot as plt\n",
    "\n",
    "df = pd.read_csv('All Data.csv')\n",
    "\n",
    "xx= df['X'].to_numpy()\n",
    "yy= df['Y'].to_numpy()\n",
    "zz= df['Tip'].to_numpy()\n",
    "\n",
    "sc= plt.scatter(xx, yy, c=zz, vmin=0, vmax=25, cmap=cmap)\n",
    "plt.title('Initial Data')\n",
    "plt.xlabel('Y(m)')\n",
    "plt.ylabel('Depth(m)')\n",
    "plt.colorbar(sc)\n",
    "plt.show()"
   ]
  },
  {
   "cell_type": "markdown",
   "id": "b802e4c3-be3b-4dae-bc1f-5a7d7bf171d2",
   "metadata": {},
   "source": [
    "<img src=\"Geos1.png\" width = \"500\" height = \"340\">"
   ]
  },
  {
   "cell_type": "markdown",
   "id": "ef992499-eca3-40f5-99b2-cd73362e395f",
   "metadata": {},
   "source": [
    "### Normal score transform "
   ]
  },
  {
   "cell_type": "code",
   "execution_count": null,
   "id": "cd6e6dcc-0af5-47ef-a9f1-490589c151a6",
   "metadata": {},
   "outputs": [],
   "source": [
    "import geostatspy.GSLIB as GSLIB  \n",
    "\n",
    "\n",
    "df['Ntip'] = GSLIB.nscore(df['Tip'].values)\n",
    "df.head()\n",
    "# Check the Tip Resistance normal score transformed distribution\n",
    "plt.subplot(121)\n",
    "plt.title('Initial Data')\n",
    "tip = df['Tip'].to_numpy()\n",
    "plt.hist(tip, density=True, bins=20)\n",
    "plt.xlabel('TipResistance(MN/M2)')\n",
    "plt.ylabel('%')\n",
    "\n",
    "plt.subplot(122)\n",
    "plt.title('NormalScore')\n",
    "Ntip = df['Ntip'].to_numpy()\n",
    "plt.hist(Ntip, density=True, bins=20)\n",
    "plt.xlabel('NormalScoreTipResistance')\n",
    "plt.ylabel('%')"
   ]
  },
  {
   "cell_type": "markdown",
   "id": "edc56e95-6fd4-4993-b8cd-553b95b2f1da",
   "metadata": {},
   "source": [
    "<img src=\"Geos2.png\" width = \"500\" height = \"340\">"
   ]
  },
  {
   "cell_type": "markdown",
   "id": "220cd028-be6c-4714-a110-7d89362fde46",
   "metadata": {},
   "source": [
    "### Isotropic Variogram Modeling"
   ]
  },
  {
   "cell_type": "code",
   "execution_count": null,
   "id": "dce7bbd6-cec3-4dc4-b6ed-f85abd9da78c",
   "metadata": {},
   "outputs": [],
   "source": [
    "lag_dist = 3.5; nlag = 10; azi = 90; atol = 90.0; bstand = 1\n",
    "\n",
    "lag, por_gamma, por_npair = GSLIB.gamv_2d(df,\"X\",\"Y\",\"Ntip\",nlag,lag_dist,azi,atol,bstand)\n",
    "\n",
    "plt.subplot(111)\n",
    "plt.plot(lag,por_gamma,'x',color = 'black',label = 'Tip Resistance')\n",
    "plt.plot([0,40],[1.0,1.0],color = 'black')\n",
    "plt.xlabel(r'Lag Distance $\\bf(h)$, (m)')\n",
    "plt.ylabel(r'$\\gamma \\bf(h)$')\n",
    "plt.title('Isotropic Standardized Tip Resistance Variogram')\n",
    "plt.xlim([0,40])\n",
    "plt.ylim([0,1.8])\n"
   ]
  },
  {
   "cell_type": "markdown",
   "id": "c4ad5ee6-7baa-48d0-9a90-f2efd1628d9c",
   "metadata": {},
   "source": [
    "<img src=\"Geos3.png\" width = \"500\" height = \"340\">"
   ]
  },
  {
   "cell_type": "markdown",
   "id": "e87d032a-09eb-4ee5-b2ae-345ea1c86e05",
   "metadata": {},
   "source": [
    "### Simulation"
   ]
  },
  {
   "cell_type": "code",
   "execution_count": null,
   "id": "6d00b4ab-acf4-454e-afa9-268ace6f5575",
   "metadata": {},
   "outputs": [],
   "source": [
    "nx = 400; ny = 105; cell_size = 0.1                     # grid number of cells and cell size\n",
    "xmin = 0.0; ymin = -10.5;                                   # grid origin\n",
    "xmax = xmin + nx * cell_size; ymax = ymin + ny * cell_size  # calculate the extent of model  \n",
    "seed = 5000                                     # random number seed for stochastic simulation\n",
    "vmin = -1; vmax = 33; cmap = plt.cm.plasma  # color min and max and using the plasma color map \n",
    "Tip_cmin = -1; Tip_cmax = 25\n",
    "\n",
    "# Conditional simulation - make 1 structure variogram, simulate, transform distribution and visualize\n",
    "var = GSLIB.make_variogram(nug=0, nst=1, itl=1, cc1=1, azi1=90, hmaj1=5, hmin1=2.5)\n",
    "\n",
    "cond_Tip_sim = GSLIB.sgsim(1, df, 'X', 'Y', 'Tip', nx, ny, cell_size, seed, var, 'simulation_cond.out')\n",
    "\n",
    "locpix(cond_Tip_sim, xmin, xmax, ymin, ymax, cell_size, Tip_cmin, Tip_cmax, df, 'X', 'Y', 'Tip', 'Tip Conditional Simu', 'z', 'y',\n",
    "       'TipResistance', cmap, 'TipRes (MN/M2)')\n",
    "\n",
    "# utility to convert GSLIB Geo-EAS files to a 1D or 2D numpy ndarray for use with Python methods\n",
    "sim = GSLIB.GSLIB2Dataframe(\"simulation_cond.out\")\n",
    "simr = sim.to_numpy()\n",
    "\n",
    "plt.subplot(121)\n",
    "plt.title('Initial Data')\n",
    "plt.hist(tip, density=True, bins=15)\n",
    "plt.xlabel('TipResistance (MN/M2)')\n",
    "plt.ylabel('N')\n",
    "\n",
    "plt.subplot(122)\n",
    "plt.title('SGS')\n",
    "plt.hist(simr, density=True, bins=15)\n",
    "plt.xlabel('TipResistance (MN/M2)')\n",
    "plt.ylabel('N')\n"
   ]
  },
  {
   "cell_type": "markdown",
   "id": "a7f87681-c6da-4f8f-81a4-d66e2354fb81",
   "metadata": {},
   "source": [
    "<img src=\"Geos4.png\" width = \"800\" height = \"540\">\n",
    "\n",
    "<img src=\"Geos5.png\" width = \"500\" height = \"340\">"
   ]
  },
  {
   "cell_type": "markdown",
   "id": "16783a40-31bb-4d67-8cfe-7dcc0b881166",
   "metadata": {},
   "source": [
    "#### Changing Seed Number\n",
    "Seed =1000"
   ]
  },
  {
   "cell_type": "markdown",
   "id": "bb5bbece-1520-44e5-ac76-8bfe4d9aa929",
   "metadata": {},
   "source": [
    "<img src=\"Geos6.png\" width = \"800\" height = \"540\">\n",
    "<img src=\"Geos7.png\" width = \"500\" height = \"340\">\n",
    "The results of realization number 2 with seed number = 1000\n",
    "\n"
   ]
  },
  {
   "cell_type": "markdown",
   "id": "d070579d-e58f-4cb3-a304-8607d7f2a5ff",
   "metadata": {},
   "source": [
    "#### Making 300 Realizations\n",
    "To avoid any artifact and/or bias that can result from a combination of a regular path and a restricted search, 300 realizations of Tip_Resistance were generated during sequential Gaussian simulation by varying the seed number and the visiting path. The final model was produced by averaging these 3000 realizations."
   ]
  },
  {
   "cell_type": "code",
   "execution_count": null,
   "id": "5e54eaf0-340e-4338-8ca1-88e6c749a756",
   "metadata": {},
   "outputs": [],
   "source": [
    "seed = 7500\n",
    "cond_Tip_sim = GSLIB.sgsim(1, df, 'X', 'Y', 'Tip', nx, ny, cell_size, seed, var, 'simulation_cond.out')\n",
    "sum = cond_Tip_sim\n",
    "\n",
    "for i in range(1, 300):\n",
    "    seed = random.randint(100, 10000)\n",
    "    cond_Tip_sim = GSLIB.sgsim(1, df, 'X', 'Y', 'Tip', nx, ny, cell_size, seed, var, 'simulation_cond.out')\n",
    "    sum = sum + cond_Tip_sim\n",
    "\n",
    "cond_Tip_sim = sum / (i + 1)\n",
    "GSLIB.locpix(cond_Tip_sim, xmin, xmax, ymin, ymax, cell_size, Tip_cmin, Tip_cmax, df, 'X', 'Y', 'Tip', 'Tip_Resistance Conditional Simulation', 'X', 'Y',\n",
    "       'Tip_Resistance (MN/M2)', cmap, 'TipRes (MN/M2)')\n"
   ]
  },
  {
   "cell_type": "markdown",
   "id": "1d92e997-eaa6-4099-8b2c-4839d404d04c",
   "metadata": {},
   "source": [
    "<img src=\"Geos8.png\" width = \"800\" height = \"740\">\n",
    "<img src=\"Geos9.png\" width = \"500\" height = \"340\">\n",
    "The result of Avraging 300 realizations"
   ]
  }
 ],
 "metadata": {
  "kernelspec": {
   "display_name": "Python 3 (ipykernel)",
   "language": "python",
   "name": "python3"
  },
  "language_info": {
   "codemirror_mode": {
    "name": "ipython",
    "version": 3
   },
   "file_extension": ".py",
   "mimetype": "text/x-python",
   "name": "python",
   "nbconvert_exporter": "python",
   "pygments_lexer": "ipython3",
   "version": "3.11.4"
  }
 },
 "nbformat": 4,
 "nbformat_minor": 5
}
